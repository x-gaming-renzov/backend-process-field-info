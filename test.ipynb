{
 "cells": [
  {
   "cell_type": "code",
   "execution_count": 1,
   "metadata": {},
   "outputs": [],
   "source": [
    "import json"
   ]
  },
  {
   "cell_type": "code",
   "execution_count": 2,
   "metadata": {},
   "outputs": [],
   "source": [
    "with open('temp/p007/1/field_info.json', 'r') as f:\n",
    "    data = json.load(f)"
   ]
  },
  {
   "cell_type": "code",
   "execution_count": 3,
   "metadata": {},
   "outputs": [],
   "source": [
    "same_new_name = {}\n",
    "\n",
    "for field in data['field_info_list']:\n",
    "    if field['field_new_name'] in same_new_name:\n",
    "        same_new_name[field['field_new_name']].append({\"field_name\" : field['field_name'], \"field_type\" : field['field_type']})\n",
    "    else:\n",
    "        same_new_name[field['field_new_name']] = [{\"field_name\" : field['field_name'], \"field_type\" : field['field_type']}]\n"
   ]
  },
  {
   "cell_type": "code",
   "execution_count": 4,
   "metadata": {},
   "outputs": [],
   "source": [
    "repeated_new_names = {}\n",
    "for i in same_new_name:\n",
    "    if len(same_new_name[i]) > 1:\n",
    "        repeated_new_names[i] = same_new_name[i]"
   ]
  },
  {
   "cell_type": "code",
   "execution_count": 5,
   "metadata": {},
   "outputs": [
    {
     "name": "stdout",
     "output_type": "stream",
     "text": [
      "event_type\n",
      "{'field_name': 'event', 'field_type': \"<class 'str'>\"}\n",
      "{'field_name': 'event_original_name', 'field_type': \"<class 'str'>\"}\n",
      "{'field_name': 'type', 'field_type': \"<class 'str'>\"}\n",
      "\n",
      "\n",
      "event_timestamp\n",
      "{'field_name': 'timestamp', 'field_type': \"<class 'str'>\"}\n",
      "{'field_name': 'time', 'field_type': \"<class 'int'>\"}\n",
      "\n",
      "\n"
     ]
    }
   ],
   "source": [
    "for repeated_new_name in repeated_new_names:\n",
    "    print(repeated_new_name)\n",
    "    for repeated_field in repeated_new_names[repeated_new_name]:\n",
    "        print(repeated_field)\n",
    "    print(\"\\n\")\n",
    "        "
   ]
  },
  {
   "cell_type": "code",
   "execution_count": 6,
   "metadata": {},
   "outputs": [
    {
     "data": {
      "text/plain": [
       "{'event_type': [{'field_name': 'event', 'field_type': \"<class 'str'>\"},\n",
       "  {'field_name': 'event_original_name', 'field_type': \"<class 'str'>\"},\n",
       "  {'field_name': 'type', 'field_type': \"<class 'str'>\"}],\n",
       " 'event_timestamp': [{'field_name': 'timestamp',\n",
       "   'field_type': \"<class 'str'>\"},\n",
       "  {'field_name': 'time', 'field_type': \"<class 'int'>\"}]}"
      ]
     },
     "execution_count": 6,
     "metadata": {},
     "output_type": "execute_result"
    }
   ],
   "source": [
    "repeated_new_names"
   ]
  },
  {
   "cell_type": "code",
   "execution_count": null,
   "metadata": {},
   "outputs": [],
   "source": []
  }
 ],
 "metadata": {
  "kernelspec": {
   "display_name": ".venv",
   "language": "python",
   "name": "python3"
  },
  "language_info": {
   "codemirror_mode": {
    "name": "ipython",
    "version": 3
   },
   "file_extension": ".py",
   "mimetype": "text/x-python",
   "name": "python",
   "nbconvert_exporter": "python",
   "pygments_lexer": "ipython3",
   "version": "3.12.3"
  }
 },
 "nbformat": 4,
 "nbformat_minor": 2
}
